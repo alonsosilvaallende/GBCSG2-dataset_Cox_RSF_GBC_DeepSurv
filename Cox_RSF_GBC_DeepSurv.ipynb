{
 "cells": [
  {
   "cell_type": "code",
   "execution_count": 1,
   "metadata": {},
   "outputs": [],
   "source": [
    "# imports\n",
    "%matplotlib inline\n",
    "import matplotlib.pyplot as plt\n",
    "import pandas as pd\n",
    "import numpy as np"
   ]
  },
  {
   "cell_type": "code",
   "execution_count": 2,
   "metadata": {},
   "outputs": [
    {
     "data": {
      "text/html": [
       "<div>\n",
       "<style scoped>\n",
       "    .dataframe tbody tr th:only-of-type {\n",
       "        vertical-align: middle;\n",
       "    }\n",
       "\n",
       "    .dataframe tbody tr th {\n",
       "        vertical-align: top;\n",
       "    }\n",
       "\n",
       "    .dataframe thead th {\n",
       "        text-align: right;\n",
       "    }\n",
       "</style>\n",
       "<table border=\"1\" class=\"dataframe\">\n",
       "  <thead>\n",
       "    <tr style=\"text-align: right;\">\n",
       "      <th></th>\n",
       "      <th>age</th>\n",
       "      <th>estrec</th>\n",
       "      <th>horTh</th>\n",
       "      <th>menostat</th>\n",
       "      <th>pnodes</th>\n",
       "      <th>progrec</th>\n",
       "      <th>tgrade</th>\n",
       "      <th>tsize</th>\n",
       "      <th>time</th>\n",
       "      <th>event</th>\n",
       "    </tr>\n",
       "  </thead>\n",
       "  <tbody>\n",
       "    <tr>\n",
       "      <th>0</th>\n",
       "      <td>70.0</td>\n",
       "      <td>66.0</td>\n",
       "      <td>no</td>\n",
       "      <td>Post</td>\n",
       "      <td>3.0</td>\n",
       "      <td>48.0</td>\n",
       "      <td>II</td>\n",
       "      <td>21.0</td>\n",
       "      <td>1814.0</td>\n",
       "      <td>True</td>\n",
       "    </tr>\n",
       "    <tr>\n",
       "      <th>1</th>\n",
       "      <td>56.0</td>\n",
       "      <td>77.0</td>\n",
       "      <td>yes</td>\n",
       "      <td>Post</td>\n",
       "      <td>7.0</td>\n",
       "      <td>61.0</td>\n",
       "      <td>II</td>\n",
       "      <td>12.0</td>\n",
       "      <td>2018.0</td>\n",
       "      <td>True</td>\n",
       "    </tr>\n",
       "    <tr>\n",
       "      <th>2</th>\n",
       "      <td>58.0</td>\n",
       "      <td>271.0</td>\n",
       "      <td>yes</td>\n",
       "      <td>Post</td>\n",
       "      <td>9.0</td>\n",
       "      <td>52.0</td>\n",
       "      <td>II</td>\n",
       "      <td>35.0</td>\n",
       "      <td>712.0</td>\n",
       "      <td>True</td>\n",
       "    </tr>\n",
       "    <tr>\n",
       "      <th>3</th>\n",
       "      <td>59.0</td>\n",
       "      <td>29.0</td>\n",
       "      <td>yes</td>\n",
       "      <td>Post</td>\n",
       "      <td>4.0</td>\n",
       "      <td>60.0</td>\n",
       "      <td>II</td>\n",
       "      <td>17.0</td>\n",
       "      <td>1807.0</td>\n",
       "      <td>True</td>\n",
       "    </tr>\n",
       "    <tr>\n",
       "      <th>4</th>\n",
       "      <td>73.0</td>\n",
       "      <td>65.0</td>\n",
       "      <td>no</td>\n",
       "      <td>Post</td>\n",
       "      <td>1.0</td>\n",
       "      <td>26.0</td>\n",
       "      <td>II</td>\n",
       "      <td>35.0</td>\n",
       "      <td>772.0</td>\n",
       "      <td>True</td>\n",
       "    </tr>\n",
       "    <tr>\n",
       "      <th>5</th>\n",
       "      <td>32.0</td>\n",
       "      <td>13.0</td>\n",
       "      <td>no</td>\n",
       "      <td>Pre</td>\n",
       "      <td>24.0</td>\n",
       "      <td>0.0</td>\n",
       "      <td>III</td>\n",
       "      <td>57.0</td>\n",
       "      <td>448.0</td>\n",
       "      <td>True</td>\n",
       "    </tr>\n",
       "    <tr>\n",
       "      <th>6</th>\n",
       "      <td>59.0</td>\n",
       "      <td>0.0</td>\n",
       "      <td>yes</td>\n",
       "      <td>Post</td>\n",
       "      <td>2.0</td>\n",
       "      <td>181.0</td>\n",
       "      <td>II</td>\n",
       "      <td>8.0</td>\n",
       "      <td>2172.0</td>\n",
       "      <td>False</td>\n",
       "    </tr>\n",
       "    <tr>\n",
       "      <th>7</th>\n",
       "      <td>65.0</td>\n",
       "      <td>25.0</td>\n",
       "      <td>no</td>\n",
       "      <td>Post</td>\n",
       "      <td>1.0</td>\n",
       "      <td>192.0</td>\n",
       "      <td>II</td>\n",
       "      <td>16.0</td>\n",
       "      <td>2161.0</td>\n",
       "      <td>False</td>\n",
       "    </tr>\n",
       "    <tr>\n",
       "      <th>8</th>\n",
       "      <td>80.0</td>\n",
       "      <td>59.0</td>\n",
       "      <td>no</td>\n",
       "      <td>Post</td>\n",
       "      <td>30.0</td>\n",
       "      <td>0.0</td>\n",
       "      <td>II</td>\n",
       "      <td>39.0</td>\n",
       "      <td>471.0</td>\n",
       "      <td>True</td>\n",
       "    </tr>\n",
       "    <tr>\n",
       "      <th>9</th>\n",
       "      <td>66.0</td>\n",
       "      <td>3.0</td>\n",
       "      <td>no</td>\n",
       "      <td>Post</td>\n",
       "      <td>7.0</td>\n",
       "      <td>0.0</td>\n",
       "      <td>II</td>\n",
       "      <td>18.0</td>\n",
       "      <td>2014.0</td>\n",
       "      <td>False</td>\n",
       "    </tr>\n",
       "  </tbody>\n",
       "</table>\n",
       "</div>"
      ],
      "text/plain": [
       "    age  estrec horTh menostat  pnodes  progrec tgrade  tsize    time  event\n",
       "0  70.0    66.0    no     Post     3.0     48.0     II   21.0  1814.0   True\n",
       "1  56.0    77.0   yes     Post     7.0     61.0     II   12.0  2018.0   True\n",
       "2  58.0   271.0   yes     Post     9.0     52.0     II   35.0   712.0   True\n",
       "3  59.0    29.0   yes     Post     4.0     60.0     II   17.0  1807.0   True\n",
       "4  73.0    65.0    no     Post     1.0     26.0     II   35.0   772.0   True\n",
       "5  32.0    13.0    no      Pre    24.0      0.0    III   57.0   448.0   True\n",
       "6  59.0     0.0   yes     Post     2.0    181.0     II    8.0  2172.0  False\n",
       "7  65.0    25.0    no     Post     1.0    192.0     II   16.0  2161.0  False\n",
       "8  80.0    59.0    no     Post    30.0      0.0     II   39.0   471.0   True\n",
       "9  66.0     3.0    no     Post     7.0      0.0     II   18.0  2014.0  False"
      ]
     },
     "execution_count": 2,
     "metadata": {},
     "output_type": "execute_result"
    }
   ],
   "source": [
    "df_raw = pd.read_csv('./data/GBCSG2.csv')\n",
    "df_raw.head(10)"
   ]
  },
  {
   "cell_type": "code",
   "execution_count": 3,
   "metadata": {},
   "outputs": [],
   "source": [
    "from sksurv.datasets import get_x_y\n",
    "\n",
    "X, y = get_x_y(df_raw, attr_labels=['event','time'], pos_label=True)\n",
    "\n",
    "# # download the dataset\n",
    "\n",
    "# from sksurv.datasets import load_gbsg2\n",
    "\n",
    "# X, y = load_gbsg2()"
   ]
  },
  {
   "cell_type": "code",
   "execution_count": 4,
   "metadata": {},
   "outputs": [
    {
     "name": "stdout",
     "output_type": "stream",
     "text": [
      "samples: 686\n",
      "features/covariables: 8\n",
      "\n",
      "right censored samples: 387\n",
      "percentage of right censored samples: 56.4%\n"
     ]
    }
   ],
   "source": [
    "# number of samples, number of features/covariables\n",
    "print(f'samples: {X.shape[0]}')\n",
    "print(f'features/covariables: {X.shape[1]}\\n')\n",
    "print(f'right censored samples: {len(df_raw.query(\"event == False\"))}')\n",
    "print(f'percentage of right censored samples: {100*len(df_raw.query(\"event == False\"))/len(df_raw):.1f}%')"
   ]
  },
  {
   "cell_type": "code",
   "execution_count": 5,
   "metadata": {},
   "outputs": [
    {
     "name": "stdout",
     "output_type": "stream",
     "text": [
      "Number of training samples: 514\n",
      "Number of validation samples: 172\n"
     ]
    }
   ],
   "source": [
    "from sklearn.model_selection import train_test_split\n",
    "\n",
    "X_trn, X_val, y_trn, y_val = train_test_split(X, y, random_state=42)\n",
    "\n",
    "print(f'Number of training samples: {len(y_trn)}')\n",
    "print(f'Number of validation samples: {len(y_val)}')"
   ]
  },
  {
   "cell_type": "code",
   "execution_count": 6,
   "metadata": {},
   "outputs": [
    {
     "data": {
      "text/plain": [
       "['age', 'estrec', 'pnodes', 'progrec', 'tsize']"
      ]
     },
     "execution_count": 6,
     "metadata": {},
     "output_type": "execute_result"
    }
   ],
   "source": [
    "scaling_cols = [c for c in X.columns if X[c].dtype.kind in ['i', 'f']]\n",
    "scaling_cols"
   ]
  },
  {
   "cell_type": "code",
   "execution_count": 7,
   "metadata": {},
   "outputs": [
    {
     "data": {
      "text/plain": [
       "['horTh', 'menostat', 'tgrade']"
      ]
     },
     "execution_count": 7,
     "metadata": {},
     "output_type": "execute_result"
    }
   ],
   "source": [
    "cat_cols = [c for c in X.columns if X[c].dtype.kind not in [\"i\", \"f\"]]\n",
    "cat_cols"
   ]
  },
  {
   "cell_type": "code",
   "execution_count": 8,
   "metadata": {},
   "outputs": [],
   "source": [
    "from sklearn.compose import ColumnTransformer\n",
    "from sklearn.preprocessing import OrdinalEncoder\n",
    "from sklearn.preprocessing import StandardScaler\n",
    "\n",
    "preprocessor = ColumnTransformer(\n",
    "    [('cat-preprocessor', OrdinalEncoder(), cat_cols),\n",
    "    ('standard-scaler', StandardScaler(), scaling_cols)],\n",
    "    remainder='passthrough', sparse_threshold=0)"
   ]
  },
  {
   "cell_type": "code",
   "execution_count": 9,
   "metadata": {},
   "outputs": [
    {
     "name": "stdout",
     "output_type": "stream",
     "text": [
      "The c-index of Cox is given by 0.635\n"
     ]
    }
   ],
   "source": [
    "from sklearn.pipeline import make_pipeline\n",
    "from sksurv.linear_model import CoxPHSurvivalAnalysis\n",
    "from sksurv.metrics import concordance_index_censored\n",
    "\n",
    "cox = make_pipeline(preprocessor, CoxPHSurvivalAnalysis())\n",
    "cox.fit(X_trn, y_trn)\n",
    "\n",
    "ci_cox = concordance_index_censored(y_val[\"event\"], y_val[\"time\"], cox.predict(X_val))\n",
    "print(f'The c-index of Cox is given by {ci_cox[0]:.3f}')"
   ]
  },
  {
   "cell_type": "code",
   "execution_count": 10,
   "metadata": {},
   "outputs": [
    {
     "name": "stdout",
     "output_type": "stream",
     "text": [
      "The c-index of Cox using a RandomizedSearchCV is 0.653\n",
      "The best set of parameters is: {'coxphsurvivalanalysis__alpha': 53.45166110646816}\n"
     ]
    }
   ],
   "source": [
    "from scipy.stats import reciprocal\n",
    "from sklearn.model_selection import RandomizedSearchCV\n",
    "\n",
    "param_distributions = {\n",
    "    'coxphsurvivalanalysis__alpha': reciprocal(0.1, 100),\n",
    "}\n",
    "\n",
    "model_random_search = RandomizedSearchCV(cox, param_distributions=param_distributions, n_iter=50, n_jobs=-1, cv=5, random_state=42)\n",
    "model_random_search.fit(X_trn, y_trn)\n",
    "\n",
    "print(\n",
    "    f\"The c-index of Cox using a {model_random_search.__class__.__name__} is \"\n",
    "    f\"{model_random_search.score(X_val, y_val):.3f}\")\n",
    "print(\n",
    "    f\"The best set of parameters is: {model_random_search.best_params_}\"\n",
    ")"
   ]
  },
  {
   "cell_type": "code",
   "execution_count": 11,
   "metadata": {
    "scrolled": true
   },
   "outputs": [
    {
     "name": "stdout",
     "output_type": "stream",
     "text": [
      "The c-index of Gradient Boosting Cox PH is given by 0.641\n"
     ]
    }
   ],
   "source": [
    "from sklearn.pipeline import make_pipeline\n",
    "from sksurv.ensemble import GradientBoostingSurvivalAnalysis\n",
    "\n",
    "gbc = make_pipeline(preprocessor, GradientBoostingSurvivalAnalysis(random_state=42))\n",
    "\n",
    "gbc.fit(X_trn, y_trn)\n",
    "\n",
    "ci_gbc = concordance_index_censored(y_val[\"event\"], y_val[\"time\"], gbc.predict(X_val))\n",
    "print(f'The c-index of Gradient Boosting Cox PH is given by {ci_gbc[0]:.3f}')"
   ]
  },
  {
   "cell_type": "code",
   "execution_count": 12,
   "metadata": {},
   "outputs": [
    {
     "name": "stdout",
     "output_type": "stream",
     "text": [
      "The c-index of gradient boosting Cox PH using a RandomizedSearchCV is 0.664\n",
      "The best set of parameters is: {'gradientboostingsurvivalanalysis__learning_rate': 0.04366473592979633, 'gradientboostingsurvivalanalysis__max_depth': 7, 'gradientboostingsurvivalanalysis__min_samples_leaf': 35}\n"
     ]
    }
   ],
   "source": [
    "from scipy.stats import reciprocal\n",
    "from sklearn.model_selection import RandomizedSearchCV\n",
    "\n",
    "class reciprocal_int:\n",
    "    def __init__(self, a, b):\n",
    "        self._distribution = reciprocal(a, b)\n",
    "\n",
    "    def rvs(self, *args, **kwargs):\n",
    "        return self._distribution.rvs(*args, **kwargs).astype(int)\n",
    "\n",
    "param_distributions = {\n",
    "    'gradientboostingsurvivalanalysis__learning_rate': reciprocal(0.001, 1),\n",
    "    'gradientboostingsurvivalanalysis__max_depth': reciprocal_int(5, 50),\n",
    "    'gradientboostingsurvivalanalysis__min_samples_leaf': reciprocal_int(1, 40),\n",
    "}\n",
    "\n",
    "model_random_search = RandomizedSearchCV(gbc, param_distributions=param_distributions, n_iter=50, n_jobs=-1, cv=5, random_state=42)\n",
    "model_random_search.fit(X_trn, y_trn)\n",
    "\n",
    "print(\n",
    "    f\"The c-index of gradient boosting Cox PH using a {model_random_search.__class__.__name__} is \"\n",
    "    f\"{model_random_search.score(X_val, y_val):.3f}\")\n",
    "print(\n",
    "    f\"The best set of parameters is: {model_random_search.best_params_}\"\n",
    ")"
   ]
  },
  {
   "cell_type": "code",
   "execution_count": 13,
   "metadata": {},
   "outputs": [],
   "source": [
    "X_trn = preprocessor.fit_transform(X_trn)\n",
    "X_val = preprocessor.transform(X_val)"
   ]
  },
  {
   "cell_type": "code",
   "execution_count": 14,
   "metadata": {
    "scrolled": true
   },
   "outputs": [
    {
     "name": "stdout",
     "output_type": "stream",
     "text": [
      "The c-index of Random survival forest is given by 0.672\n"
     ]
    }
   ],
   "source": [
    "from pysurvival.models.survival_forest import RandomSurvivalForestModel\n",
    "\n",
    "rsf = RandomSurvivalForestModel(num_trees=20)\n",
    "rsf.fit(X_trn, y_trn[\"time\"], y_trn[\"event\"])\n",
    "ci_rsf = concordance_index_censored(y_val[\"event\"], y_val[\"time\"], rsf.predict_risk(X_val))\n",
    "\n",
    "print(f'The c-index of Random survival forest is given by {ci_rsf[0]:.3f}')"
   ]
  },
  {
   "cell_type": "code",
   "execution_count": 15,
   "metadata": {
    "scrolled": false
   },
   "outputs": [
    {
     "name": "stderr",
     "output_type": "stream",
     "text": [
      "% Completion: 100%|**********************************************|Loss: 1236.95\r"
     ]
    },
    {
     "name": "stdout",
     "output_type": "stream",
     "text": [
      "The c-index of DeepSurv is given by 0.684\n"
     ]
    },
    {
     "name": "stderr",
     "output_type": "stream",
     "text": [
      "\n"
     ]
    }
   ],
   "source": [
    "from pysurvival.models.semi_parametric import NonLinearCoxPHModel\n",
    "\n",
    "structure = [ {'activation': 'ReLU', 'num_units': 60}, {'activation': 'ReLU', 'num_units': 10}, ]\n",
    "\n",
    "# Building the model\n",
    "nonlinear_coxph = NonLinearCoxPHModel(structure=structure)\n",
    "nonlinear_coxph.fit(X_trn, y_trn[\"time\"], y_trn[\"event\"])\n",
    "\n",
    "ci_deepsurv = concordance_index_censored(y_val[\"event\"], y_val[\"time\"], nonlinear_coxph.predict_risk(X_val))\n",
    "\n",
    "print(f'The c-index of DeepSurv is given by {ci_deepsurv[0]:.3f}')"
   ]
  }
 ],
 "metadata": {
  "kernelspec": {
   "display_name": "Python 3",
   "language": "python",
   "name": "python3"
  },
  "language_info": {
   "codemirror_mode": {
    "name": "ipython",
    "version": 3
   },
   "file_extension": ".py",
   "mimetype": "text/x-python",
   "name": "python",
   "nbconvert_exporter": "python",
   "pygments_lexer": "ipython3",
   "version": "3.7.4"
  }
 },
 "nbformat": 4,
 "nbformat_minor": 2
}
